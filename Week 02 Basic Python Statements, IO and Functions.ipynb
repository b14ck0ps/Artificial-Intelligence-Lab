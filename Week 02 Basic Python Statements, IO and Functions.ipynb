{
 "cells": [
  {
   "cell_type": "markdown",
   "metadata": {},
   "source": [
    "# About this notebook\n",
    "<p style=\"text-align: justify\"> Here, you will learn the basic statements of python and function. Some codes will be given for demonstration. Some other codes, you will do as excercise.</p>\n",
    "\n",
    "## Submission\n",
    "<p style=\"text-align: justify\">After completing the practice codes and exercises, submit the notebook (.pynb file) to corresponding Teaching Assistant (TA) through Microsoft Teams</p>\n",
    "<p> 1.<b> You must submit your own code</b>. If similarity found negative marking will be given.</p>\n",
    "<p> 2. Do not change the file name.</p>\n",
    "<p> 3. Other file format will not be accepted.</p>"
   ]
  },
  {
   "cell_type": "markdown",
   "metadata": {},
   "source": [
    "# User Input"
   ]
  },
  {
   "cell_type": "code",
   "execution_count": 1,
   "metadata": {},
   "outputs": [
    {
     "name": "stdout",
     "output_type": "stream",
     "text": [
      "68\n"
     ]
    }
   ],
   "source": [
    "a = 68\n",
    "print(a)"
   ]
  },
  {
   "cell_type": "code",
   "execution_count": 2,
   "metadata": {},
   "outputs": [
    {
     "name": "stdout",
     "output_type": "stream",
     "text": [
      "1569\n"
     ]
    }
   ],
   "source": [
    "a = input('Enter a value: ') # always returns string\n",
    "print(a)"
   ]
  },
  {
   "cell_type": "code",
   "execution_count": 3,
   "metadata": {},
   "outputs": [
    {
     "name": "stdout",
     "output_type": "stream",
     "text": [
      "88\n"
     ]
    }
   ],
   "source": [
    "num = int(input('Enter a number: ')) # returns string but converted to int\n",
    "print(num + 23)"
   ]
  },
  {
   "cell_type": "code",
   "execution_count": 4,
   "metadata": {},
   "outputs": [
    {
     "name": "stdout",
     "output_type": "stream",
     "text": [
      "Your name is ajran\n"
     ]
    }
   ],
   "source": [
    "name = input('Enter your name: ') # always returns string\n",
    "print('Your name is ' + name)"
   ]
  },
  {
   "cell_type": "markdown",
   "metadata": {},
   "source": [
    "# if statement\n",
    "There can be zero or more elif parts, and the else part is optional. The keyword ‘elif’ is short for ‘else if’"
   ]
  },
  {
   "cell_type": "code",
   "execution_count": 3,
   "metadata": {},
   "outputs": [
    {
     "name": "stdout",
     "output_type": "stream",
     "text": [
      "bad\n",
      "not okay\n"
     ]
    }
   ],
   "source": [
    "# indent\n",
    "i = 7\n",
    "if i < 5: # () not required, {} not required\n",
    "    print('okay')\n",
    "    print('fine')\n",
    "else:\n",
    "    print('bad')\n",
    "print('not okay') # will be executed in each run"
   ]
  },
  {
   "cell_type": "code",
   "execution_count": 5,
   "metadata": {},
   "outputs": [
    {
     "name": "stdout",
     "output_type": "stream",
     "text": [
      "Zero\n"
     ]
    }
   ],
   "source": [
    "x = int(input(\"Please enter an integer: \"))\n",
    "if x < 0:\n",
    "    x = 0\n",
    "    print('Negative changed to zero')\n",
    "elif x == 0:\n",
    "    print('Zero')\n",
    "elif x == 1:\n",
    "    print('Single')\n",
    "else:\n",
    "    print('More')"
   ]
  },
  {
   "cell_type": "markdown",
   "metadata": {},
   "source": [
    "<b>Exercise 1:</b> Take a number (0-100) from user and Use if statement to print corresponiding grade."
   ]
  },
  {
   "cell_type": "code",
   "execution_count": 6,
   "metadata": {},
   "outputs": [
    {
     "name": "stdout",
     "output_type": "stream",
     "text": [
      "A+\n"
     ]
    }
   ],
   "source": [
    "# code here\n",
    "Score =input (\"Enter your score: \")\n",
    "if Score.isdigit:\n",
    "    Score = float(Score)\n",
    "    if Score >= 90:\n",
    "        print(\"A+\")\n",
    "    elif Score >= 85:\n",
    "        print(\"A\")\n",
    "    elif Score >= 80:\n",
    "        print(\"B+\")\n",
    "    elif Score >= 75:\n",
    "        print(\"B\")\n",
    "    elif Score >= 70:\n",
    "        print(\"C+\")\n",
    "    elif Score >= 65:\n",
    "        print(\"C\")\n",
    "    elif Score >= 60:\n",
    "        print(\"D+\")\n",
    "    elif Score >= 55:\n",
    "        print(\"D\")\n",
    "    else:\n",
    "        print(\"F\")\n",
    "else:\n",
    "    print(\"Please enter a number\")\n"
   ]
  },
  {
   "cell_type": "markdown",
   "metadata": {},
   "source": [
    "# for statement\n",
    "<p style=\"text-align: justify\">The for statement in Python differs a bit from what you may be used to in C or C++. Rather than always giving the user the ability to define both the iteration step and halting condition, Python’s for statement iterates over the items of any sequence (a list or a string), in the order that they appear in the sequence.</p>"
   ]
  },
  {
   "cell_type": "code",
   "execution_count": 7,
   "metadata": {},
   "outputs": [
    {
     "name": "stdout",
     "output_type": "stream",
     "text": [
      "Diamond 7\n",
      "Master 6\n",
      "Silver 6\n"
     ]
    }
   ],
   "source": [
    "# Measure some strings:\n",
    "words = ['Diamond', 'Master', 'Silver']\n",
    "for w in words:\n",
    "    print(w, len(w))"
   ]
  },
  {
   "cell_type": "code",
   "execution_count": 8,
   "metadata": {},
   "outputs": [
    {
     "name": "stdout",
     "output_type": "stream",
     "text": [
      "21\n",
      "109\n"
     ]
    }
   ],
   "source": [
    "numbers = [11, 99]\n",
    "\n",
    "for n in numbers:\n",
    "    print(n+10)"
   ]
  },
  {
   "cell_type": "markdown",
   "metadata": {},
   "source": [
    "### The range() Function\n",
    "If you do need to iterate over a sequence of numbers, the built-in function range() comes in handy. It generates arithmetic progressions:"
   ]
  },
  {
   "cell_type": "code",
   "execution_count": 10,
   "metadata": {},
   "outputs": [
    {
     "name": "stdout",
     "output_type": "stream",
     "text": [
      "0\n",
      "1\n",
      "2\n",
      "3\n",
      "4\n",
      "5\n",
      "6\n",
      "7\n",
      "8\n",
      "9\n"
     ]
    }
   ],
   "source": [
    "for i in range(10):\n",
    "    print(i)"
   ]
  },
  {
   "cell_type": "markdown",
   "metadata": {},
   "source": [
    "<p style=\"text-align: justify\">The given end point is never part of the generated sequence; range(10) generates 10 values, the legal indices for items of a sequence of length 10. It is possible to let the range start at another number, or to specify a different increment (even negative; sometimes this is called the ‘step’):</p>"
   ]
  },
  {
   "cell_type": "code",
   "execution_count": 8,
   "metadata": {},
   "outputs": [
    {
     "data": {
      "text/plain": [
       "[5, 6, 7, 8, 9]"
      ]
     },
     "execution_count": 8,
     "metadata": {},
     "output_type": "execute_result"
    }
   ],
   "source": [
    "list(range(5, 10))"
   ]
  },
  {
   "cell_type": "code",
   "execution_count": 9,
   "metadata": {},
   "outputs": [
    {
     "data": {
      "text/plain": [
       "[0, 3, 6, 9]"
      ]
     },
     "execution_count": 9,
     "metadata": {},
     "output_type": "execute_result"
    }
   ],
   "source": [
    "list(range(0, 10, 3))"
   ]
  },
  {
   "cell_type": "code",
   "execution_count": 10,
   "metadata": {},
   "outputs": [
    {
     "data": {
      "text/plain": [
       "[-10, -40, -70]"
      ]
     },
     "execution_count": 10,
     "metadata": {},
     "output_type": "execute_result"
    }
   ],
   "source": [
    "list(range(-10, -100, -30))"
   ]
  },
  {
   "cell_type": "code",
   "execution_count": 11,
   "metadata": {},
   "outputs": [
    {
     "name": "stdout",
     "output_type": "stream",
     "text": [
      "0 1\n",
      "1 56\n",
      "2 78\n",
      "3 8\n"
     ]
    }
   ],
   "source": [
    "for i in range(len(numbers)):\n",
    "    print(i, numbers[i])"
   ]
  },
  {
   "cell_type": "code",
   "execution_count": 12,
   "metadata": {},
   "outputs": [
    {
     "name": "stdout",
     "output_type": "stream",
     "text": [
      "10 15 20 25 30 35 40 45 50 55 60 65 70 75 80 85 90 95 "
     ]
    }
   ],
   "source": [
    "for i in range(10,100,5):\n",
    "    print(i, end = ' ')"
   ]
  },
  {
   "cell_type": "markdown",
   "metadata": {},
   "source": [
    "<b>Exercise 2:</b> Print all the even numbers between 0 to 100 using for and range."
   ]
  },
  {
   "cell_type": "code",
   "execution_count": 13,
   "metadata": {},
   "outputs": [
    {
     "name": "stdout",
     "output_type": "stream",
     "text": [
      "0 1 2 3 4 5 6 7 8 9 10 11 12 13 14 15 16 17 18 19 20 21 22 23 24 25 26 27 28 29 30 31 32 33 34 35 36 37 38 39 40 41 42 43 44 45 46 47 48 49 50 51 52 53 54 55 56 57 58 59 60 61 62 63 64 65 66 67 68 69 70 71 72 73 74 75 76 77 78 79 80 81 82 83 84 85 86 87 88 89 90 91 92 93 94 95 96 97 98 99 100 "
     ]
    }
   ],
   "source": [
    "# code here\n",
    "for i in range(0,101):\n",
    "    print(i, end = ' ')"
   ]
  },
  {
   "cell_type": "code",
   "execution_count": 14,
   "metadata": {},
   "outputs": [
    {
     "name": "stdout",
     "output_type": "stream",
     "text": [
      "c o u n t y r "
     ]
    }
   ],
   "source": [
    "country = \"countyr\"\n",
    "for c in country: \n",
    "    print(c,end=' ')"
   ]
  },
  {
   "cell_type": "markdown",
   "metadata": {},
   "source": [
    "# Functions\n",
    "<p style=\"text-align: justify\">The keyword def introduces a function definition. It must be followed by the function name and the parenthesized list of formal parameters. The statements that form the body of the function start at the next line, and must be indented.</p>"
   ]
  },
  {
   "cell_type": "code",
   "execution_count": 15,
   "metadata": {},
   "outputs": [],
   "source": [
    "def fib(n):    # write Fibonacci series up to n\n",
    "    \"\"\"Print a Fibonacci series up to n.\"\"\"\n",
    "    a, b = 0, 1\n",
    "    while a < n:\n",
    "        print(a, end=' ')\n",
    "        a, b = b, a+b\n",
    "        print()"
   ]
  },
  {
   "cell_type": "code",
   "execution_count": 17,
   "metadata": {},
   "outputs": [
    {
     "name": "stdout",
     "output_type": "stream",
     "text": [
      "0 \n",
      "1 \n",
      "1 \n",
      "2 \n",
      "3 \n",
      "5 \n",
      "8 \n",
      "13 \n",
      "21 \n",
      "34 \n"
     ]
    }
   ],
   "source": [
    "# Now call the function we just defined:\n",
    "fib(50)"
   ]
  },
  {
   "cell_type": "code",
   "execution_count": 19,
   "metadata": {},
   "outputs": [],
   "source": [
    "# define method\n",
    "def addnumbers(num1, num2): # add numbers and return result\n",
    "    # logic\n",
    "    res = num1 + num2\n",
    "    return res"
   ]
  },
  {
   "cell_type": "code",
   "execution_count": 20,
   "metadata": {},
   "outputs": [
    {
     "data": {
      "text/plain": [
       "4"
      ]
     },
     "execution_count": 20,
     "metadata": {},
     "output_type": "execute_result"
    }
   ],
   "source": [
    "addnumbers(2, 2) # use or call method"
   ]
  },
  {
   "cell_type": "code",
   "execution_count": 21,
   "metadata": {},
   "outputs": [
    {
     "data": {
      "text/plain": [
       "-1"
      ]
     },
     "execution_count": 21,
     "metadata": {},
     "output_type": "execute_result"
    }
   ],
   "source": [
    "addnumbers(-1, -0)"
   ]
  },
  {
   "cell_type": "code",
   "execution_count": 23,
   "metadata": {},
   "outputs": [],
   "source": [
    "# add list values\n",
    "def addValues(num):\n",
    "    sum = 0\n",
    "    for n in num:\n",
    "        sum = sum + n\n",
    "    return sum   "
   ]
  },
  {
   "cell_type": "code",
   "execution_count": 24,
   "metadata": {},
   "outputs": [
    {
     "data": {
      "text/plain": [
       "1038"
      ]
     },
     "execution_count": 24,
     "metadata": {},
     "output_type": "execute_result"
    }
   ],
   "source": [
    "addValues([10,20,15,33,65,99,78,41,56,22,14,585])"
   ]
  },
  {
   "cell_type": "code",
   "execution_count": 26,
   "metadata": {},
   "outputs": [
    {
     "data": {
      "text/plain": [
       "3.9"
      ]
     },
     "execution_count": 26,
     "metadata": {},
     "output_type": "execute_result"
    }
   ],
   "source": [
    "addValues([3.3,0.6])"
   ]
  },
  {
   "cell_type": "code",
   "execution_count": 27,
   "metadata": {},
   "outputs": [
    {
     "data": {
      "text/plain": [
       "28"
      ]
     },
     "execution_count": 27,
     "metadata": {},
     "output_type": "execute_result"
    }
   ],
   "source": [
    "v = [5, 4,12, 7]\n",
    "addValues(v)"
   ]
  },
  {
   "cell_type": "code",
   "execution_count": 28,
   "metadata": {},
   "outputs": [
    {
     "data": {
      "text/plain": [
       "84"
      ]
     },
     "execution_count": 28,
     "metadata": {},
     "output_type": "execute_result"
    }
   ],
   "source": [
    "v = [5, 4,12, 7, 5, 4,12, 7, 5, 4,12, 7]\n",
    "addValues(v)"
   ]
  },
  {
   "cell_type": "code",
   "execution_count": 29,
   "metadata": {},
   "outputs": [],
   "source": [
    "# method/function\n",
    "def multiTable(n, r=10):\n",
    "    for i in range(1,r+1):\n",
    "        print(\"{}X{}={}\".format(n,i,n*i))\n"
   ]
  },
  {
   "cell_type": "code",
   "execution_count": 30,
   "metadata": {},
   "outputs": [
    {
     "name": "stdout",
     "output_type": "stream",
     "text": [
      "1X1=1\n",
      "1X2=2\n",
      "1X3=3\n",
      "1X4=4\n",
      "1X5=5\n",
      "1X6=6\n",
      "1X7=7\n",
      "1X8=8\n",
      "1X9=9\n",
      "1X10=10\n"
     ]
    }
   ],
   "source": [
    "multiTable(1, 10)"
   ]
  },
  {
   "cell_type": "code",
   "execution_count": 31,
   "metadata": {},
   "outputs": [
    {
     "name": "stdout",
     "output_type": "stream",
     "text": [
      "2X1=2\n",
      "2X2=4\n",
      "2X3=6\n",
      "2X4=8\n",
      "2X5=10\n",
      "2X6=12\n",
      "2X7=14\n",
      "2X8=16\n",
      "2X9=18\n",
      "2X10=20\n"
     ]
    }
   ],
   "source": [
    "multiTable(2)"
   ]
  },
  {
   "cell_type": "markdown",
   "metadata": {},
   "source": [
    "<b>Exercise 3:</b> Define a method to add two lists and returns another list\n",
    "<p>Example:<br>\n",
    "    Input: [3,4,5,1] and [6,7,2,8]<br>\n",
    "    output: [9,11,7,9]</p>\n"
   ]
  },
  {
   "cell_type": "code",
   "execution_count": 6,
   "metadata": {},
   "outputs": [],
   "source": [
    "# code here\n",
    "def addList(list1,list2):\n",
    "    add_list = []\n",
    "    for i in range(0, len(list1)):\n",
    "        add_list.append(list1[i] + list2[i])\n",
    "    return add_list"
   ]
  },
  {
   "cell_type": "code",
   "execution_count": 25,
   "metadata": {},
   "outputs": [
    {
     "data": {
      "text/plain": [
       "[9, 11, 7, 9]"
      ]
     },
     "execution_count": 25,
     "metadata": {},
     "output_type": "execute_result"
    }
   ],
   "source": [
    "x=[3,4,5,1]\n",
    "y=[6,7,2,8]\n",
    "addList(x,y)"
   ]
  },
  {
   "cell_type": "markdown",
   "metadata": {},
   "source": [
    "<b> Exercise 4:</b> Write a method to print first name and last name from full name.\n",
    "<p>Example:<br>\n",
    "    Input: Arafat Rahman Sunny<br>\n",
    "    Output: First name: Arafat, Last name: Sunny</p>"
   ]
  },
  {
   "cell_type": "code",
   "execution_count": 9,
   "metadata": {},
   "outputs": [],
   "source": [
    "# code here\n",
    "def get_firstname_lastname(fullname):\n",
    "    first=fullname.split()[0]\n",
    "    last=fullname.split()[-1]\n",
    "    print('First name:'+first + ', Last name:' + last)"
   ]
  },
  {
   "cell_type": "code",
   "execution_count": 12,
   "metadata": {},
   "outputs": [
    {
     "name": "stdout",
     "output_type": "stream",
     "text": [
      "First name:Ajran, Last name:Hossain\n"
     ]
    }
   ],
   "source": [
    "get_firstname_lastname('Ajran Hossain')"
   ]
  },
  {
   "cell_type": "markdown",
   "metadata": {},
   "source": [
    "# Output Formatting (Optional)\n",
    "Go to the [link](https://docs.python.org/3/tutorial/inputoutput.html#formatted-string-literals) and practice the codes below."
   ]
  },
  {
   "cell_type": "code",
   "execution_count": 24,
   "metadata": {},
   "outputs": [
    {
     "name": "stdout",
     "output_type": "stream",
     "text": [
      "First name: Ajran,   Last name: Hossain\n",
      "First name: Ajran,   Last name: Hossain\n",
      "My name is Ajran and i am a student.\n"
     ]
    }
   ],
   "source": [
    "# code here\n",
    "firstname = 'Ajran'\n",
    "lastname = 'Hossain'\n",
    "print(f'First name: {firstname},   Last name: {lastname}')\n",
    "print('First name: {0},   Last name: {1}'.format('Ajran', 'Hossain'))\n",
    "print('My name is {name} and i am a {job}.'.format(name='Ajran', job='student'))"
   ]
  }
 ],
 "metadata": {
  "kernelspec": {
   "display_name": "Python 3",
   "language": "python",
   "name": "python3"
  },
  "language_info": {
   "codemirror_mode": {
    "name": "ipython",
    "version": 3
   },
   "file_extension": ".py",
   "mimetype": "text/x-python",
   "name": "python",
   "nbconvert_exporter": "python",
   "pygments_lexer": "ipython3",
   "version": "3.9.7"
  }
 },
 "nbformat": 4,
 "nbformat_minor": 4
}
